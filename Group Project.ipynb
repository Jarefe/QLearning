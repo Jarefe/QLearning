{
 "cells": [
  {
   "cell_type": "code",
   "execution_count": 57,
   "metadata": {
    "collapsed": true,
    "ExecuteTime": {
     "start_time": "2023-04-11T00:58:19.278978Z",
     "end_time": "2023-04-11T00:58:19.288986Z"
    }
   },
   "outputs": [],
   "source": [
    "# imports\n",
    "import numpy as np\n",
    "import random\n",
    "import matplotlib.pyplot as plt\n",
    "import plotly.graph_objs as go\n",
    "from plotly.subplots import make_subplots\n",
    "from mpl_toolkits.mplot3d import Axes3D"
   ]
  },
  {
   "cell_type": "code",
   "execution_count": 58,
   "outputs": [],
   "source": [
    "class Agent:\n",
    "    def __init__(self, name, position, q_table, alpha, gamma, epsilon):\n",
    "        # Initialize variables with provided values\n",
    "        self.name = name\n",
    "        self.position = position\n",
    "        self.q_table = q_table\n",
    "        self.alpha = alpha\n",
    "        self.gamma = gamma\n",
    "        self.epsilon = epsilon\n",
    "        self.world_bounds = (3,3,3)\n",
    "\n",
    "        # Initialize variables that track agent actions\n",
    "        self.prev_state = None\n",
    "        self.prev_action = None\n",
    "        self.prev_reward = None\n",
    "        self.carrying = None\n",
    "\n",
    "    def reset(self):\n",
    "        # Reset all states and rewards\n",
    "        self.prev_reward = None\n",
    "        self.prev_action = None\n",
    "        self.prev_state = None\n",
    "        self.carrying = None\n",
    "\n",
    "    # Following functions move agent accordingly; checks if action is valid before moving\n",
    "    def North(self):\n",
    "        new_pos = (self.position[0], self.position[1] + 1, self.position[2])\n",
    "        if self.is_valid_position(new_pos):\n",
    "            self.position = new_pos\n",
    "\n",
    "    def East(self):\n",
    "        new_pos = (self.position[0] + 1, self.position[1], self.position[2])\n",
    "        if self.is_valid_position(new_pos):\n",
    "            self.position = new_pos\n",
    "\n",
    "    def South(self):\n",
    "        new_pos = (self.position[0], self.position[1] - 1, self.position[2])\n",
    "        if self.is_valid_position(new_pos):\n",
    "            self.position = new_pos\n",
    "\n",
    "    def West(self):\n",
    "        new_pos = (self.position[0] - 1, self.position[1], self.position[2])\n",
    "        if self.is_valid_position(new_pos):\n",
    "            self.position = new_pos\n",
    "\n",
    "    def Up(self):\n",
    "        new_pos = (self.position[0], self.position[1], self.position[2] + 1)\n",
    "        if self.is_valid_position(new_pos):\n",
    "            self.position = new_pos\n",
    "\n",
    "    def Down(self):\n",
    "        new_pos = (self.position[0], self.position[1], self.position[2] - 1)\n",
    "        if self.is_valid_position(new_pos):\n",
    "            self.position = new_pos\n",
    "\n",
    "    # Checks\n",
    "    def is_valid_position(self, position):\n",
    "        return all(0 <= coord < bound for coord, bound in zip(position, self.world_bounds))\n",
    "\n",
    "    def pickup(self):\n",
    "        print()\n",
    "        # TODO implement function\n",
    "\n",
    "    def dropoff(self):\n",
    "        print()\n",
    "        # TODO implement function"
   ],
   "metadata": {
    "collapsed": false,
    "ExecuteTime": {
     "start_time": "2023-04-11T00:58:19.290985Z",
     "end_time": "2023-04-11T00:58:19.318042Z"
    }
   }
  },
  {
   "cell_type": "code",
   "execution_count": 59,
   "outputs": [],
   "source": [
    "class PDWorld:\n",
    "    # Set up world for agents\n",
    "    def __init__(self, size=(3, 3, 3), blocks=None, dropoffs=None):\n",
    "        self.size = size\n",
    "        self.blocks = {} if blocks is None else blocks\n",
    "        self.dropoffs = {} if dropoffs is None else dropoffs\n",
    "\n",
    "    def is_valid_position(self, position):\n",
    "        return all(0 <= coord < bound for coord, bound in zip(position, self.size))\n",
    "\n",
    "    # Returns value of block at given position\n",
    "    def get_block(self, position):\n",
    "        return self.blocks.get(position)\n",
    "\n",
    "    # Sets value of block\n",
    "    def set_block(self, position, value):\n",
    "        self.blocks[position] = value\n",
    "\n",
    "    # Removes block at given position\n",
    "    def remove_block(self, position):\n",
    "        self.blocks.pop(position, None)\n",
    "\n",
    "    # Determine what actions agent can take\n",
    "    def get_valid_actions(self, agent_pos, agent_holding):\n",
    "        valid_actions = []\n",
    "\n",
    "        # Agent can always stay in place\n",
    "        valid_actions.append('stay')\n",
    "\n",
    "        # Check if agent can move north\n",
    "        if self.is_valid_position((agent_pos[0], agent_pos[1]+1, agent_pos[2])):\n",
    "            valid_actions.append('north')\n",
    "\n",
    "        # Check if agent can move east\n",
    "        if self.is_valid_position((agent_pos[0]+1, agent_pos[1], agent_pos[2])):\n",
    "            valid_actions.append('east')\n",
    "\n",
    "        # Check if agent can move south\n",
    "        if self.is_valid_position((agent_pos[0], agent_pos[1]-1, agent_pos[2])):\n",
    "            valid_actions.append('south')\n",
    "\n",
    "        # Check if agent can move west\n",
    "        if self.is_valid_position((agent_pos[0]-1, agent_pos[1], agent_pos[2])):\n",
    "            valid_actions.append('west')\n",
    "\n",
    "        # Check if agent can move up\n",
    "        if self.is_valid_position((agent_pos[0], agent_pos[1], agent_pos[2]+1)):\n",
    "            valid_actions.append('up')\n",
    "\n",
    "        # Check if agent can move down\n",
    "        if self.is_valid_position((agent_pos[0], agent_pos[1], agent_pos[2]-1)):\n",
    "            valid_actions.append('down')\n",
    "\n",
    "        # Check if agent can pick up a block\n",
    "        if not agent_holding and agent_pos in self.blocks:\n",
    "            valid_actions.append('pickup')\n",
    "\n",
    "        # Check if agent can drop off a block\n",
    "        if agent_holding and agent_pos in self.dropoffs and self.dropoffs[agent_pos] == agent_holding:\n",
    "            valid_actions.append('dropoff')\n",
    "\n",
    "        return valid_actions\n",
    "\n",
    "    def plot_world(self, agents=None):\n",
    "        fig = plt.figure()\n",
    "        ax = fig.add_subplot(111, projection='3d')\n",
    "\n",
    "        # Set limits for the plot\n",
    "        ax.set_xlim3d(0, self.size[0])\n",
    "        ax.set_ylim3d(0, self.size[1])\n",
    "        ax.set_zlim3d(0, self.size[2])\n",
    "\n",
    "        # Plot the blocks\n",
    "        for position, value in self.blocks.items():\n",
    "            x, y, z = position\n",
    "            color = 'r' if value is None else 'b'\n",
    "            ax.scatter(x, y, z, c=color, marker='s')\n",
    "\n",
    "        # Plot the dropoffs\n",
    "        for position in self.dropoffs.keys():\n",
    "            x, y, z = position\n",
    "            ax.scatter(x, y, z, c='g', marker='o')\n",
    "\n",
    "        # Plot the agents\n",
    "        if agents is not None:\n",
    "            for agent in agents:\n",
    "                x, y, z = agent.position\n",
    "                ax.scatter(x, y, z, c='k', marker='^')\n",
    "\n",
    "        plt.show()\n"
   ],
   "metadata": {
    "collapsed": false,
    "ExecuteTime": {
     "start_time": "2023-04-11T00:58:19.296499Z",
     "end_time": "2023-04-11T00:58:19.318544Z"
    }
   }
  },
  {
   "cell_type": "code",
   "execution_count": 60,
   "outputs": [],
   "source": [
    "class QTable:\n",
    "    def __init__(self):\n",
    "        self.table = {}\n",
    "\n",
    "    # Returns q value for given state action pair from q table; default value is 0 if pair isnt present\n",
    "    def get(self, state, action):\n",
    "        return self.table.get((state, action), 0.0)\n",
    "\n",
    "    # Updates q value for given state action pair with given value\n",
    "    def update(self, state, action, value):\n",
    "        self.table[(state, action)] = value\n",
    "\n",
    "    # Returns action with highest q value for given state among list of actions; Randomizes action if there are multiple highest values\n",
    "    def get_best_action(self, state, actions):\n",
    "        q_values = {a: self.get(state, a) for a in actions}\n",
    "        max_q = max(q_values.values())\n",
    "        actions_with_max_q = [a for a, q in q_values.items() if q == max_q]\n",
    "        return random.choice(actions_with_max_q)"
   ],
   "metadata": {
    "collapsed": false,
    "ExecuteTime": {
     "start_time": "2023-04-11T00:58:19.316046Z",
     "end_time": "2023-04-11T00:58:19.323561Z"
    }
   }
  },
  {
   "cell_type": "code",
   "execution_count": 61,
   "outputs": [],
   "source": [
    "# Additional functions\n",
    "def prevent_collision(agent1, agent2):\n",
    "    # Agents are at the same position, so move one of them randomly\n",
    "    if agent1.position == agent2.position:\n",
    "        possible_moves = ['North', 'East', 'South', 'West', 'Up', 'Down']\n",
    "        random_move = random.choice(possible_moves)\n",
    "        if random_move == 'North':\n",
    "            agent1.North()\n",
    "        elif random_move == 'East':\n",
    "            agent1.East()\n",
    "        elif random_move == 'South':\n",
    "            agent1.South()\n",
    "        elif random_move == 'West':\n",
    "            agent1.West()\n",
    "        elif random_move == 'Up':\n",
    "            agent1.Up()\n",
    "        elif random_move == 'Down':\n",
    "            agent1.Down()\n",
    "\n",
    "def reward(prev_state, prev_action, state, blocks):\n",
    "    reward = 0\n",
    "    if prev_action in state['valid_actions']:\n",
    "        if state['agent_holding'] is not None:\n",
    "            # Agent has dropped off a block at a valid dropoff position\n",
    "            if blocks.get(state['agent_position']) == state['agent_holding']:\n",
    "                reward += 14\n",
    "            else:\n",
    "                reward -= 5\n",
    "        else:\n",
    "            # Agent has moved to a new position without transporting a block\n",
    "            reward -= 1\n",
    "            if state['agent_position'] in blocks and blocks[state['agent_position']] is not None:\n",
    "                # Agent has picked up a block from a valid pickup position\n",
    "                if prev_state is not None and blocks.get(prev_state['agent_position']) != state['agent_holding']:\n",
    "                    # Penalize agent for picking up block unnecessarily\n",
    "                    reward -= 5\n",
    "                else:\n",
    "                    reward += 14\n",
    "\n",
    "    else:\n",
    "        # Agent has attempted an invalid action (e.g. moving out of bounds or into a wall)\n",
    "        reward -= 1\n",
    "\n",
    "    return reward\n"
   ],
   "metadata": {
    "collapsed": false,
    "ExecuteTime": {
     "start_time": "2023-04-11T00:58:19.328057Z",
     "end_time": "2023-04-11T00:58:19.333641Z"
    }
   }
  },
  {
   "cell_type": "code",
   "execution_count": 62,
   "outputs": [],
   "source": [
    " # initializing world\n",
    "WORLD_SIZE = 3 # alter as necessary\n",
    "world = PDWorld(size=(WORLD_SIZE, WORLD_SIZE, WORLD_SIZE))\n",
    "agents = []\n"
   ],
   "metadata": {
    "collapsed": false,
    "ExecuteTime": {
     "start_time": "2023-04-11T00:58:19.333641Z",
     "end_time": "2023-04-11T00:58:19.338637Z"
    }
   }
  },
  {
   "cell_type": "code",
   "execution_count": 62,
   "outputs": [],
   "source": [],
   "metadata": {
    "collapsed": false,
    "ExecuteTime": {
     "start_time": "2023-04-11T00:58:19.341138Z",
     "end_time": "2023-04-11T00:58:19.349654Z"
    }
   }
  },
  {
   "cell_type": "code",
   "execution_count": 63,
   "outputs": [
    {
     "data": {
      "text/plain": "<Figure size 640x480 with 1 Axes>",
      "image/png": "[encoded data removed]"
     },
     "metadata": {},
     "output_type": "display_data"
    }
   ],
   "source": [
    "world.plot_world()"
   ],
   "metadata": {
    "collapsed": false,
    "ExecuteTime": {
     "start_time": "2023-04-11T00:58:19.345657Z",
     "end_time": "2023-04-11T00:58:19.505781Z"
    }
   }
  },
  {
   "cell_type": "code",
   "execution_count": 63,
   "outputs": [],
   "source": [],
   "metadata": {
    "collapsed": false,
    "ExecuteTime": {
     "start_time": "2023-04-11T00:58:19.507280Z",
     "end_time": "2023-04-11T00:58:19.511293Z"
    }
   }
  }
 ],
 "metadata": {
  "kernelspec": {
   "display_name": "Python 3",
   "language": "python",
   "name": "python3"
  },
  "language_info": {
   "codemirror_mode": {
    "name": "ipython",
    "version": 2
   },
   "file_extension": ".py",
   "mimetype": "text/x-python",
   "name": "python",
   "nbconvert_exporter": "python",
   "pygments_lexer": "ipython2",
   "version": "2.7.6"
  }
 },
 "nbformat": 4,
 "nbformat_minor": 0
}
